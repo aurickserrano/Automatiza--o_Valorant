{
 "cells": [
  {
   "cell_type": "code",
   "execution_count": 22,
   "id": "72f030f1",
   "metadata": {},
   "outputs": [],
   "source": [
    "import pyautogui\n",
    "import time\n",
    "pyautogui.PAUSE = 0.5\n",
    "#abrir valorant\n",
    "pyautogui.press('winleft')\n",
    "pyautogui.write('valorant')\n",
    "pyautogui.press('enter')\n",
    "time.sleep(6)\n",
    "pyautogui.write(\"usuario\")\n",
    "pyautogui.press('tab')\n",
    "pyautogui.write(\"senha\")\n",
    "pyautogui.press('enter')\n"
   ]
  }
 ],
 "metadata": {
  "kernelspec": {
   "display_name": "Python 3 (ipykernel)",
   "language": "python",
   "name": "python3"
  },
  "language_info": {
   "codemirror_mode": {
    "name": "ipython",
    "version": 3
   },
   "file_extension": ".py",
   "mimetype": "text/x-python",
   "name": "python",
   "nbconvert_exporter": "python",
   "pygments_lexer": "ipython3",
   "version": "3.9.7"
  }
 },
 "nbformat": 4,
 "nbformat_minor": 5
}
